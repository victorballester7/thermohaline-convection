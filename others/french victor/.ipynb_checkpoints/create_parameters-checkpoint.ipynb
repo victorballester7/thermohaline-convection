{
 "cells": [
  {
   "cell_type": "code",
   "execution_count": 14,
   "id": "dbcbb513",
   "metadata": {
    "scrolled": true
   },
   "outputs": [],
   "source": [
    "file = open('parameters.txt','r')\n",
    "list_lines = file.read()\n",
    "file.close()\n",
    "lines = list_lines.split('\\n')\n",
    "i = 0\n",
    "while lines[i] != 'end parameters':\n",
    "    if lines[i] == '##':\n",
    "        if lines[i+1] in ['nitermax','NX','NY']:\n",
    "            globals()[lines[i+1]] = int(lines[i+2])\n",
    "        else:\n",
    "            globals()[lines[i+1]] = float(lines[i+2])\n",
    "    i += 1\n",
    "while lines[i] != 'end':\n",
    "    if lines[i] == '##':\n",
    "        if lines[i+1] in ['name_file','file_initial_conditions']:\n",
    "            globals()[lines[i+1]] = lines[i+2]\n",
    "        else:\n",
    "            globals()[lines[i+1]] = (lines[i+2] == 't')\n",
    "            print(lines[i+1],lines[i+2] == 't')\n",
    "        i += 2\n",
    "    i += 1    \n",
    "    \n"
   ]
  }
 ],
 "metadata": {
  "kernelspec": {
   "display_name": "Python 3 (ipykernel)",
   "language": "python",
   "name": "python3"
  },
  "language_info": {
   "codemirror_mode": {
    "name": "ipython",
    "version": 3
   },
   "file_extension": ".py",
   "mimetype": "text/x-python",
   "name": "python",
   "nbconvert_exporter": "python",
   "pygments_lexer": "ipython3",
   "version": "3.9.13"
  }
 },
 "nbformat": 4,
 "nbformat_minor": 5
}
